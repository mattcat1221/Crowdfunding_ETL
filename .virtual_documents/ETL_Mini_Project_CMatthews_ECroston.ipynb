# Import dependencies
import pandas as pd
import numpy as np
pd.set_option('max_colwidth', 400)





# Read the data into a Pandas DataFrame
crowdfunding_info_df = pd.read_excel('Resources/crowdfunding.xlsx')
crowdfunding_info_df.head()


# Get a brief summary of the crowdfunding_info DataFrame.
crowdfunding_info_df.info()





# Get the crowdfunding_info_df columns.
crowdfunding_info_df.keys()


# Assign the category and subcategory values to category and subcategory columns.
crowdfunding_info_df[['category', 'subcategory']] = crowdfunding_info_df['category & sub-category'].str.split("/", expand=True)
crowdfunding_info_df.head()


# Get the unique categories and subcategories in separate lists.

categories = crowdfunding_info_df['category'].unique()
subcategories = crowdfunding_info_df['subcategory'].unique()
print(categories)
print(subcategories)




# Get the number of distinct values in the categories and subcategories lists.
print(len(categories))
print(len(subcategories))


# Create numpy arrays from 1-9 for the categories and 1-24 for the subcategories.
category_ids = np.arange(1, 10)
subcategory_ids = np.arange(1, 25)

print(category_ids)
print(subcategory_ids)


# Use a list comprehension to add "cat" to each category_id. 

cat_ids = ['cat' + str(x) for x in category_ids]

# Use a list comprehension to add "subcat" to each subcategory_id.    

subcat_ids = ['subcat' + str(x) for x in subcategory_ids]
    
print(cat_ids)
print(subcat_ids)


# Create a category DataFrame with the category_id array as the category_id and categories list as the category name.

category_df = pd.DataFrame({'category_id': cat_ids, 'category': categories})

# Create a category DataFrame with the subcategory_id array as the subcategory_id and subcategories list as the subcategory name. 

subcategory_df = pd.DataFrame({'subcategory_id': subcat_ids, 'subcategory': subcategories})


category_df


subcategory_df


# Export categories_df and subcategories_df as CSV files.
category_df.to_csv("Resources/category.csv", index=False)

subcategory_df.to_csv("Resources/subcategory.csv", index=False)





# Create a copy of the crowdfunding_info_df DataFrame name campaign_df. 
campaign_df = crowdfunding_info_df.copy()
campaign_df.head()


# Rename the blurb, launched_at, and deadline columns.
campaign_df = crowdfunding_info_df.copy()
campaign_df = campaign_df.rename(columns={'blurb': 'description', 'launched_at': 'launched_date', 'deadline': 'end_date'})

campaign_df.head()


# Convert the goal and pledged columns to a `float` data type.
campaign_df[["goal", "pledged"]] = campaign_df[["goal", "pledged"]].astype("float")
campaign_df.head()


# Check the datatypes
campaign_df.dtypes


# Format the launched_date and end_date columns to datetime format
from datetime import datetime as dt

campaign_df.launched_date = campaign_df.launched_date.apply(lambda x: dt.fromtimestamp(x).strftime('%Y-%m-%d'))
campaign_df.end_date = campaign_df.end_date.apply(lambda x: dt.fromtimestamp(x).strftime('%Y-%m-%d'))

campaign_df.head()


# Merge the campaign_df with the category_df on the "category" column and 
# the subcategory_df on the "subcategory" column.
campaign_merged_df = campaign_df.merge(category_df, on='category').merge(subcategory_df, on='subcategory')

campaign_merged_df.tail(10)


# Drop unwanted columns
campaign_cleaned = campaign_merged_df.drop(columns=['staff_pick', 'spotlight', 'category & sub-category', 'category', 'subcategory'])
campaign_cleaned.head()


# Export the DataFrame as a CSV file. 
campaign_cleaned.to_csv("Resources/campaign.csv", index=False)





# Read the data into a Pandas DataFrame. Use the `header=2` parameter when reading in the data.
contact_info_df = pd.read_excel('Resources/contacts.xlsx', header=3)
contact_info_df.head()








import warnings
warnings.filterwarnings('ignore')


# Iterate through the contact_info_df and convert each row to a dictionary.
import json
dict_values = [json.loads(x[0]) for i,x in contact_info_df.iloc[1:].iterrows()]

# Print out the list of values for each row.
print(dict_values)


# Creating the DataFrame
contacts_df_clean = pd.DataFrame(dict_values)

# Display the DataFrame
contacts_df_clean.head()


# Check the datatypes.
contacts_df_clean.info()


# Create a "first"name" and "last_name" column with the first and last names from the "name" column. 
contacts_df_clean[["first_name","last_name"]] = contacts_df_clean.name.str.split(' ' ,expand=True)

# Drop the contact_name column
contacts_df_clean.drop("name",axis=1,inplace=True)
contacts_df_clean.head(10)


# Reorder the columns
contacts_df_clean = contacts_df_clean[["contact_id","first_name","last_name","email"]]
contacts_df_clean.head(10)


# Check the datatypes one more time before exporting as CSV file.
contacts_df_clean.info()


# Export the DataFrame as a CSV file. 
contacts_df_clean.to_csv("Resources/contacts.csv", encoding='utf8', index=False)





contact_info_df_copy = contact_info_df.copy()
contact_info_df_copy.head()


# Extract the four-digit contact ID number.
contact_info_df_copy['contact_id'] = [x[0] for x in contact_info_df_copy.contact_info.str.findall('(\d+)')]
contact_info_df_copy.head()


# Check the datatypes.
contact_info_df_copy.info()


# Extract the name of the contact and add it to a new column.
contact_info_df_copy['name'] = [x[0] for x in contact_info_df_copy.contact_info.str.findall('"name": "(.*)",')]
contact_info_df_copy.head(10)


# Extract the email from the contacts and add the values to a new column.
contact_info_df_copy['email'] = [x[0] for x in contact_info_df_copy.contact_info.str.findall('"email": "(.*)"')]
contact_info_df_copy


# Create a copy of the contact_info_df with the 'contact_id', 'name', 'email' columns.
df = contact_info_df_copy.drop('contact_info',axis=1)
df[:10]


# Create a "first"name" and "last_name" column with the first and last names from the "name" column. 
# Drop the contact_name column

df[['first_name','last_name']] = df.pop('name').str.split(" ", expand=True)
df


# Reorder the columns
df = df[['contact_id', 'first_name', 'last_name', 'email']]
df[:10]


# Check the datatypes one more time before exporting as CSV file.
df.info()


# Export the DataFrame as a CSV file. 
df.to_csv("Resources/contacts_cm.csv", encoding='utf8', index=False)



